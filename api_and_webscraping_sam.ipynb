{
 "cells": [
  {
   "cell_type": "code",
   "execution_count": 1,
   "metadata": {},
   "outputs": [],
   "source": [
    "import json\n",
    "import requests\n",
    "from bs4 import BeautifulSoup\n",
    "import pandas as pd"
   ]
  },
  {
   "cell_type": "code",
   "execution_count": 2,
   "metadata": {},
   "outputs": [],
   "source": [
    "page = requests.get('https://www.imdb.com/chart/toptv/?sort=rk,asc&mode=simple&page=1')\n",
    "soup = BeautifulSoup(page.content, 'html.parser')"
   ]
  },
  {
   "cell_type": "code",
   "execution_count": 3,
   "metadata": {},
   "outputs": [],
   "source": [
    "# CODE FOR WEBSCRAPING LIST OF TOP RATED SHOWS\n",
    "movie_titles = soup.find_all(class_='titleColumn')"
   ]
  },
  {
   "cell_type": "code",
   "execution_count": 4,
   "metadata": {},
   "outputs": [],
   "source": [
    "# learned about dict comprehension, created dict comprehension for top 250 rated show, for codes and titles\n",
    "code_title_dict = {mov.a['href'].split('/')[2]:mov.a.text for mov in movie_titles}"
   ]
  },
  {
   "cell_type": "code",
   "execution_count": 5,
   "metadata": {},
   "outputs": [
    {
     "data": {
      "text/plain": [
       "250"
      ]
     },
     "execution_count": 5,
     "metadata": {},
     "output_type": "execute_result"
    }
   ],
   "source": [
    "# check that len of dict is correspondent with length of imdb source\n",
    "len(code_title_dict)"
   ]
  },
  {
   "cell_type": "code",
   "execution_count": 6,
   "metadata": {},
   "outputs": [],
   "source": [
    "# created a list called codes which contians all the keys from code_title_dict\n",
    "codes =[]\n",
    "for k in code_title_dict.keys():\n",
    "    codes.append(k)"
   ]
  },
  {
   "cell_type": "code",
   "execution_count": 7,
   "metadata": {},
   "outputs": [],
   "source": [
    "# CODE FOR CALLING TV API\n",
    "def tv_api_call(imdbcode):\n",
    "#     print(imdbcode) this is an error check, checking which code fails\n",
    "\n",
    "    url =  'http://api.tvmaze.com/lookup/shows?imdb='+imdbcode\n",
    "    \n",
    "    response = requests.get(url)\n",
    "    \n",
    "    if response.status_code != 200:\n",
    "        data = None\n",
    "    else:\n",
    "        data = json.loads(response.text)\n",
    "#     created if statement for status code checks, if it doesnt work, then data is none\n",
    "#     if it does work then data loads the response as a json\n",
    "    return data"
   ]
  },
  {
   "cell_type": "code",
   "execution_count": 8,
   "metadata": {},
   "outputs": [],
   "source": [
    "def parse_shows(shows):\n",
    "    show_dict = []\n",
    "    for ind, result in enumerate(shows):\n",
    "        each_show = {'imdb_id':result['externals']['imdb'],\n",
    "                     'title':result['name'],\n",
    "                     'type':result['type'],\n",
    "                     'genre':result['genres'],\n",
    "                     'runtime':result['runtime'], \n",
    "                     'rating':result['rating']['average']}\n",
    "        \n",
    "        if  result['webChannel'] != None:\n",
    "            each_show['webChannel'] = result['webChannel']['name']\n",
    "        else:\n",
    "            each_show['webChannel'] = False\n",
    "        \n",
    "        \n",
    "        if result['network'] != None:\n",
    "            each_show['network'] = result['network']['name']\n",
    "        else:\n",
    "            each_show['network'] = False  \n",
    "            \n",
    "        show_dict.append(each_show)\n",
    "    return show_dict\n",
    "\n",
    "# created function to parse through the api calls and return a list of dictionaries with the defined keys\n",
    "# created the if statements for situations when 'webChannel' & 'network' keys in shows dict have None values"
   ]
  },
  {
   "cell_type": "code",
   "execution_count": null,
   "metadata": {},
   "outputs": [],
   "source": [
    "# created list 'responses' for list of dicts of each show\n",
    "# created list 'no_work' for list of show titles which got a status code of not 200 and were not able to be pulled\n",
    "responses = []\n",
    "no_work = []\n",
    "for value in codes:\n",
    "    called_shows = tv_api_call(value)\n",
    "    if called_shows != None:\n",
    "        responses.append(called_shows)\n",
    "    else:\n",
    "        no_work.append(value)"
   ]
  },
  {
   "cell_type": "code",
   "execution_count": null,
   "metadata": {},
   "outputs": [],
   "source": [
    "second_call = parse_shows(responses)\n",
    "# called parse_shows function with responses as argument, for the list of dicts"
   ]
  },
  {
   "cell_type": "code",
   "execution_count": null,
   "metadata": {},
   "outputs": [],
   "source": [
    "net_show = pd.DataFrame(second_call)\n",
    "# turned list of dicts into df, with keys of the dicts being column names and values of\n",
    "# each dict becoming single row"
   ]
  }
 ],
 "metadata": {
  "kernelspec": {
   "display_name": "Python 3",
   "language": "python",
   "name": "python3"
  },
  "language_info": {
   "codemirror_mode": {
    "name": "ipython",
    "version": 3
   },
   "file_extension": ".py",
   "mimetype": "text/x-python",
   "name": "python",
   "nbconvert_exporter": "python",
   "pygments_lexer": "ipython3",
   "version": "3.7.6"
  }
 },
 "nbformat": 4,
 "nbformat_minor": 2
}
