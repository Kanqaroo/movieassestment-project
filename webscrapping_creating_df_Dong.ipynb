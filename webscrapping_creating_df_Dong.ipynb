{
 "cells": [
  {
   "cell_type": "code",
   "execution_count": 1,
   "metadata": {},
   "outputs": [],
   "source": [
    "import requests\n",
    "import json\n",
    "import numpy as np\n",
    "import pandas as pd\n",
    "import seaborn as sns"
   ]
  },
  {
   "cell_type": "code",
   "execution_count": 2,
   "metadata": {},
   "outputs": [],
   "source": [
    "# web_scrap function web scraps from imdb to get imdbid number for each movie from imdb.com"
   ]
  },
  {
   "cell_type": "code",
   "execution_count": 3,
   "metadata": {},
   "outputs": [],
   "source": [
    "def web_scrap():\n",
    "    from bs4 import BeautifulSoup\n",
    "    page = requests.get('https://www.imdb.com/chart/toptv/?sort=rk,asc&mode=simple&page=1')\n",
    "    soup = BeautifulSoup(page.content, 'html.parser')\n",
    "    movie_titles = soup.find_all(class_='titleColumn')\n",
    "    code_title_dict = {mov.a['href'].split('/')[2]:mov.a.text for mov in movie_titles}\n",
    "    return code_title_dict"
   ]
  },
  {
   "cell_type": "code",
   "execution_count": 4,
   "metadata": {},
   "outputs": [],
   "source": [
    "code_title_dict = web_scrap()"
   ]
  },
  {
   "cell_type": "code",
   "execution_count": null,
   "metadata": {},
   "outputs": [],
   "source": [
    "#seperating imdbid from movie title into a seperate list so we can run api key find with using the imdbid"
   ]
  },
  {
   "cell_type": "code",
   "execution_count": 5,
   "metadata": {},
   "outputs": [],
   "source": [
    "def seperate_imdb_codes(code_title_dict):\n",
    "    imdb_codes = []\n",
    "    for k in code_title_dict.keys():\n",
    "        imdb_codes.append('&i=' + k)\n",
    "    return imdb_codes"
   ]
  },
  {
   "cell_type": "code",
   "execution_count": 6,
   "metadata": {},
   "outputs": [],
   "source": [
    "imdb_codes = seperate_imdb_codes(code_title_dict)"
   ]
  },
  {
   "cell_type": "code",
   "execution_count": 7,
   "metadata": {},
   "outputs": [],
   "source": [
    "api_key = '944239dd'"
   ]
  },
  {
   "cell_type": "code",
   "execution_count": 8,
   "metadata": {},
   "outputs": [],
   "source": [
    "#omdb_api_call will take all the imdbid from the imdbid list and use that as a param in an api call at omdbapi.com\n",
    "#and loop back the results from the calls"
   ]
  },
  {
   "cell_type": "code",
   "execution_count": 9,
   "metadata": {},
   "outputs": [],
   "source": [
    "def omdb_api_call(imdb_codes, api_key):\n",
    "    new_list = []\n",
    "    for imdbid in imdb_codes:\n",
    "        url = 'http://www.omdbapi.com/?apikey=' + api_key + imdbid\n",
    "        response = requests.get(url)\n",
    "        results = json.loads(response.text)\n",
    "        new_list.append(results)\n",
    "    return new_list"
   ]
  },
  {
   "cell_type": "code",
   "execution_count": 10,
   "metadata": {},
   "outputs": [],
   "source": [
    "new_list = omdb_api_call(imdb_codes, api_key)"
   ]
  },
  {
   "cell_type": "code",
   "execution_count": null,
   "metadata": {},
   "outputs": [],
   "source": [
    "#columns = ['imdbID','Title','Runtime','Genre','Awards','Meta','IMDb Rating','IMDb Votes','Seasons']\n",
    "# columns we would like to see in the database"
   ]
  },
  {
   "cell_type": "code",
   "execution_count": null,
   "metadata": {},
   "outputs": [],
   "source": [
    "#creating_df function will create a df from the collected data and clean up some of the columns."
   ]
  },
  {
   "cell_type": "code",
   "execution_count": 14,
   "metadata": {
    "scrolled": false
   },
   "outputs": [],
   "source": [
    "def creating_df(scrapped_info):\n",
    "    remove_columns = ['Year','Released','Director','Writer','Actors','Plot','Rated','Poster','Ratings','Response','Country','Language','Metascore']\n",
    "    df = pd.DataFrame(scrapped_info)\n",
    "    df.set_index('imdbID')\n",
    "    df = df.drop(columns = remove_columns)\n",
    "    return df\n",
    "\n",
    "# creating_df function takes the scrapped_info(list) and creates a dataframe structure\n",
    "# also takes out the unnecessary columns that will clog up our dataframe\n",
    "# sets the index to the imdbID\n",
    "# returns a dataframe with the columns we need"
   ]
  },
  {
   "cell_type": "code",
   "execution_count": 15,
   "metadata": {},
   "outputs": [],
   "source": [
    "df = creating_df(new_list)"
   ]
  }
 ],
 "metadata": {
  "kernelspec": {
   "display_name": "Python 3",
   "language": "python",
   "name": "python3"
  },
  "language_info": {
   "codemirror_mode": {
    "name": "ipython",
    "version": 3
   },
   "file_extension": ".py",
   "mimetype": "text/x-python",
   "name": "python",
   "nbconvert_exporter": "python",
   "pygments_lexer": "ipython3",
   "version": "3.7.6"
  }
 },
 "nbformat": 4,
 "nbformat_minor": 4
}
