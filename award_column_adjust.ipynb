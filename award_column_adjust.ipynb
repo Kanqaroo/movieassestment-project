{
 "cells": [
  {
   "cell_type": "code",
   "execution_count": 1,
   "metadata": {},
   "outputs": [],
   "source": [
    "import pandas as pd\n",
    "import numpy as np"
   ]
  },
  {
   "cell_type": "code",
   "execution_count": 2,
   "metadata": {},
   "outputs": [],
   "source": [
    "the_df = pd.read_csv('show_data.csv',index_col=0)"
   ]
  },
  {
   "cell_type": "code",
   "execution_count": 37,
   "metadata": {
    "scrolled": false
   },
   "outputs": [
    {
     "data": {
      "text/plain": [
       "0      Won 2 Primetime Emmys. Another 11 wins & 21 no...\n",
       "1      Won 4 Primetime Emmys. Another 11 wins & 15 no...\n",
       "2      Won 1 Golden Globe. Another 33 wins & 25 nomin...\n",
       "3      Won 2 Golden Globes. Another 151 wins & 234 no...\n",
       "4      Won 2 Golden Globes. Another 50 wins & 40 nomi...\n",
       "                             ...                        \n",
       "245    Won 6 Primetime Emmys. Another 24 wins & 56 no...\n",
       "246    Won 2 Golden Globes. Another 19 wins & 33 nomi...\n",
       "247    Won 4 Golden Globes. Another 93 wins & 117 nom...\n",
       "248                                              2 wins.\n",
       "249                              2 wins & 6 nominations.\n",
       "Name: Awards, Length: 250, dtype: object"
      ]
     },
     "execution_count": 37,
     "metadata": {},
     "output_type": "execute_result"
    }
   ],
   "source": [
    "award = the_df.Awards\n",
    "award"
   ]
  },
  {
   "cell_type": "code",
   "execution_count": 38,
   "metadata": {
    "scrolled": true
   },
   "outputs": [],
   "source": [
    "def splitting_award(sentence_list):\n",
    "    new_list = []\n",
    "    for sentence in sentence_list:\n",
    "        for word in sentence.split():\n",
    "            if word.isdigit():\n",
    "                new_list.append(int(word))\n",
    "        return new_list"
   ]
  },
  {
   "cell_type": "code",
   "execution_count": 39,
   "metadata": {
    "scrolled": true
   },
   "outputs": [
    {
     "data": {
      "text/plain": [
       "[2, 11, 21]"
      ]
     },
     "execution_count": 39,
     "metadata": {},
     "output_type": "execute_result"
    }
   ],
   "source": [
    "award_split = splitting_award(the_df.Awards)\n",
    "award_split"
   ]
  },
  {
   "cell_type": "code",
   "execution_count": null,
   "metadata": {},
   "outputs": [],
   "source": [
    "split_sentence = splitting_award(award)\n",
    "split_sentence"
   ]
  },
  {
   "cell_type": "code",
   "execution_count": null,
   "metadata": {},
   "outputs": [],
   "source": [
    "def seperating_nums(split_sentence):\n",
    "    new_list = []\n",
    "    for i in split_sentence:\n",
    "        for b in i:\n",
    "#         if i.isdigit():\n",
    "#                 num_list.append(i)\n",
    "            return b"
   ]
  },
  {
   "cell_type": "code",
   "execution_count": null,
   "metadata": {},
   "outputs": [],
   "source": [
    "num_list = seperating_nums(award)\n",
    "num_list"
   ]
  }
 ],
 "metadata": {
  "kernelspec": {
   "display_name": "Python 3",
   "language": "python",
   "name": "python3"
  },
  "language_info": {
   "codemirror_mode": {
    "name": "ipython",
    "version": 3
   },
   "file_extension": ".py",
   "mimetype": "text/x-python",
   "name": "python",
   "nbconvert_exporter": "python",
   "pygments_lexer": "ipython3",
   "version": "3.7.6"
  }
 },
 "nbformat": 4,
 "nbformat_minor": 4
}
