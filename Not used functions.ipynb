{
 "cells": [
  {
   "cell_type": "code",
   "execution_count": null,
   "metadata": {},
   "outputs": [],
   "source": [
    "# attempted function to convert webscrapped info to new list so that we can create a dataframe with correct columns\n",
    "\n",
    "# def creating_dataframe(dictionary):\n",
    "#     new_movie_dataframe = []\n",
    "#     for movie in range(len(dictionary)):\n",
    "#         new_list ={\n",
    "#             'imdbid': dictionary[movie]['imdbID'],\n",
    "#             'title' : dictionary[movie]['Title'],\n",
    "#             'runtime': dictionary[movie]['Runtime'],\n",
    "#             'genre':dictionary[movie]['Genre'],\n",
    "#             'awards':dictionary[movie]['Awards'],\n",
    "#             'metascore':dictionary[movie]['Metascore'],\n",
    "#             'imdbrating':dictionary[movie]['imdbRating'],\n",
    "#             'imdbvotes':dictionary[movie]['imdbVotes'],\n",
    "#             'seasons':dictionary[movie]['totalSeasons']\n",
    "#         }\n",
    "#         new_movie_dataframe.append(new_list)\n",
    "#         return new_movie_dataframe"
   ]
  },
  {
   "cell_type": "code",
   "execution_count": null,
   "metadata": {},
   "outputs": [],
   "source": [
    "# another attempted function to convert webscrapped info to new list so that we can create a dataframe with correct columns\n",
    "\n",
    "# def creating_dataframe(dictionary):\n",
    "#     index = 0\n",
    "#     new_movie_dataframe = []\n",
    "#     while index < len(dictionary):\n",
    "#         for movie in dictionary[index]:\n",
    "#              new_dict = [\n",
    "#                      movie['imdbID']\n",
    "#                  'title' : dictionary[movie]['Title'],\n",
    "#                  'runtime': dictionary[movie]['Runtime'],\n",
    "#                  'genre':dictionary[movie]['Genre'],\n",
    "#                  'awards':dictionary[movie]['Awards'],\n",
    "#                  'metascore':dictionary[movie]['Metascore'],\n",
    "#                  'imdbrating':dictionary[movie]['imdbRating'],\n",
    "#                  'imdbvotes':dictionary[movie]['imdbVotes'],\n",
    "#                  'seasons':dictionary[movie]['totalSeasons']\n",
    "#                     ]\n",
    "#             index += 1\n",
    "#             new_movie_dataframe.append(new_dict)\n",
    "#     return new_movie_dataframe"
   ]
  },
  {
   "cell_type": "code",
   "execution_count": null,
   "metadata": {},
   "outputs": [],
   "source": [
    "# saving new_list to a csv file\n",
    "\n",
    "# def csv_saving(new_movie_dataframe,csv_filename):\n",
    "#     #temporary_df : bringing in blank csv file to update\n",
    "#     temporary_df = pd.read_csv(csv_filename, index_col =0)\n",
    "    \n",
    "#     #current_df : adjusting current df with new attributes (etc...)\n",
    "#     current_df = pd.DataFrame(new_movie_dataframe, columns = columns)\n",
    "    \n",
    "#     #temp_combined_df : temporary df placeholder with both current and previous df mixed together\n",
    "#     temp_combined_df = [temporary_df,current_df]\n",
    "    \n",
    "#     #combined_df : final merged df\n",
    "#     combined_df = pd.concat(temp_combined_df).reset_index(drop=True) \n",
    "    \n",
    "#     #reuploading to csv file\n",
    "#     combined_df.to_csv('movie_rating_list.csv')"
   ]
  }
 ],
 "metadata": {
  "kernelspec": {
   "display_name": "Python 3",
   "language": "python",
   "name": "python3"
  },
  "language_info": {
   "codemirror_mode": {
    "name": "ipython",
    "version": 3
   },
   "file_extension": ".py",
   "mimetype": "text/x-python",
   "name": "python",
   "nbconvert_exporter": "python",
   "pygments_lexer": "ipython3",
   "version": "3.7.6"
  }
 },
 "nbformat": 4,
 "nbformat_minor": 4
}
